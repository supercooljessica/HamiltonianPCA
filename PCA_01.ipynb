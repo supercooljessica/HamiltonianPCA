{
 "cells": [
  {
   "cell_type": "code",
   "execution_count": null,
   "metadata": {},
   "outputs": [],
   "source": [
    "import numpy as np\n",
    "from numpy import linalg as LA\n",
    "import pandas as pd\n",
    "import csv\n",
    "import matplotlib.pyplot as plt"
   ]
  },
  {
   "cell_type": "code",
   "execution_count": 1,
   "metadata": {},
   "outputs": [
    {
     "name": "stdout",
     "output_type": "stream",
     "text": [
      "[[ 1.23e+02  1.23e+02  2.00e-01]\n",
      " [ 2.99e+02  4.20e+01 -2.00e-01]\n",
      " [ 5.70e+01  7.90e+01  1.00e-02]\n",
      " [ 6.70e+01  1.49e+02  3.00e-01]\n",
      " [ 4.30e+01  2.04e+02 -5.00e-01]\n",
      " [ 1.55e+02  5.00e+01 -1.00e-01]\n",
      " [ 2.30e+02  2.53e+02 -3.20e-01]\n",
      " [ 1.50e+01  1.33e+02  0.00e+00]]\n"
     ]
    }
   ],
   "source": [
    "# Store 2D data array\n",
    "df = pd.read_csv('examplecsv.csv')\n",
    "df = df.drop(columns=['Unnamed: 0', 'Unnamed: 4', 'Unnamed: 5'])\n",
    "raw_data = df.to_numpy()\n",
    "print(raw_data)\n",
    "\n",
    "data_size = len(raw_data) # Number of data points\n",
    "data_dim = len(raw_data[0]) # Dimension of each data point\n",
    "print(data_size)\n",
    "print(data_dim)"
   ]
  },
  {
   "cell_type": "code",
   "execution_count": 3,
   "metadata": {},
   "outputs": [
    {
     "name": "stdout",
     "output_type": "stream",
     "text": [
      "[[-6.25000e-01 -6.12500e+00  2.76250e-01]\n",
      " [ 1.75375e+02 -8.71250e+01 -1.23750e-01]\n",
      " [-6.66250e+01 -5.01250e+01  8.62500e-02]\n",
      " [-5.66250e+01  1.98750e+01  3.76250e-01]\n",
      " [-8.06250e+01  7.48750e+01 -4.23750e-01]\n",
      " [ 3.13750e+01 -7.91250e+01 -2.37500e-02]\n",
      " [ 1.06375e+02  1.23875e+02 -2.43750e-01]\n",
      " [-1.08625e+02  3.87500e+00  7.62500e-02]]\n"
     ]
    }
   ],
   "source": [
    "# Raw scores to deviation scores (standardize)\n",
    "ones = np.ones((data_size, data_size))\n",
    "interm_1 = ones.dot(raw_data)\n",
    "#print interm_1\n",
    "interm_2 = np.multiply( interm_1 , (1.0/data_size) )\n",
    "#print interm_2\n",
    "standardized_data = np.subtract( raw_data, interm_2 )\n",
    "print standardized_data"
   ]
  },
  {
   "cell_type": "code",
   "execution_count": 4,
   "metadata": {},
   "outputs": [
    {
     "name": "stdout",
     "output_type": "stream",
     "text": [
      "[[ 8.62523438e+03 -1.10307812e+03 -6.21484375e+00]\n",
      " [-1.10307812e+03  4.72035938e+03 -5.93796875e+00]\n",
      " [-6.21484375e+00 -5.93796875e+00  6.07484375e-02]]\n"
     ]
    }
   ],
   "source": [
    "# Get covariance matrix\n",
    "cov = (standardized_data.transpose()).dot(standardized_data)\n",
    "cov = np.multiply(cov, (1.0/data_size))\n",
    "print cov"
   ]
  },
  {
   "cell_type": "code",
   "execution_count": 5,
   "metadata": {},
   "outputs": [
    {
     "name": "stdout",
     "output_type": "stream",
     "text": [
      "[8.91529631e+03 4.43031181e+03 4.63712425e-02]\n",
      "[[ 9.67122952e-01 -2.54307629e-01  9.08579743e-04]\n",
      " [-2.54308751e-01 -9.67121966e-01  1.47028265e-03]\n",
      " [-5.04803332e-04  1.65300388e-03  9.99998506e-01]]\n",
      "{4430.3118139717535: array([-0.25430875, -0.96712197,  0.00147028]), 0.04637124245054769: array([-5.04803332e-04,  1.65300388e-03,  9.99998506e-01]), 8915.296313223298: array([ 9.67122952e-01, -2.54307629e-01,  9.08579743e-04])}\n"
     ]
    }
   ],
   "source": [
    "# Make dictionary for eigensystem of covariance matrix\n",
    "eigval, eigvec = LA.eig(cov)\n",
    "print eigval\n",
    "print eigvec\n",
    "\n",
    "eigsys = {}\n",
    "for i in range(len(eigval)):\n",
    "    eigsys[eigval[i]] = eigvec[i]\n",
    "\n",
    "print eigsys"
   ]
  },
  {
   "cell_type": "code",
   "execution_count": 6,
   "metadata": {},
   "outputs": [
    {
     "name": "stdout",
     "output_type": "stream",
     "text": [
      "[8915.296313223298, 4430.3118139717535]\n"
     ]
    }
   ],
   "source": [
    "# Get principal components\n",
    "def principal_comp(num_comp, eigsys):\n",
    "    eigvals = eigsys.keys()\n",
    "    eigvals.sort()\n",
    "    components = range(num_comp)\n",
    "    for i in range(num_comp):\n",
    "        components[i] = eigvals[len(eigvals) - i - 1]\n",
    "    return components\n",
    "\n",
    "# DECLARE NUMBER OF COMPONENTS\n",
    "num_comp = 2\n",
    "principal_values = principal_comp(num_comp, eigsys)\n",
    "print principal_values"
   ]
  },
  {
   "cell_type": "code",
   "execution_count": 7,
   "metadata": {},
   "outputs": [
    {
     "name": "stdout",
     "output_type": "stream",
     "text": [
      "[[   0.95343338  191.76562746  -51.68731839  -59.81735943  -97.01595676\n",
      "    50.46555221   71.37512496 -106.03910344]\n",
      " [   6.08297118   39.66092207   65.42043592   -4.82076283  -51.91023716\n",
      "    68.54455357 -146.85468536   23.87680261]]\n"
     ]
    }
   ],
   "source": [
    "# Make feature vectors matrix and transpose\n",
    "feature_matrix = range(num_comp)\n",
    "for i in range(num_comp):\n",
    "    feature_matrix[i] = eigsys[principal_values[i]]\n",
    "\n",
    "feature_matrix = np.asarray(feature_matrix)\n",
    "\n",
    "proj_data = np.dot(feature_matrix, standardized_data.transpose())\n",
    "\n",
    "print proj_data"
   ]
  },
  {
   "cell_type": "code",
   "execution_count": 8,
   "metadata": {},
   "outputs": [
    {
     "data": {
      "image/png": "[encoded data removed]",
      "text/plain": [
       "<Figure size 432x288 with 1 Axes>"
      ]
     },
     "metadata": {
      "needs_background": "light"
     },
     "output_type": "display_data"
    }
   ],
   "source": [
    "# Graph 2D data\n",
    "plt.figure()\n",
    "plt.plot(proj_data[0], proj_data[1], 'r+')\n",
    "plt.show()"
   ]
  },
  {
   "cell_type": "code",
   "execution_count": null,
   "metadata": {},
   "outputs": [],
   "source": []
  }
 ],
 "metadata": {
  "kernelspec": {
   "display_name": "Python 2",
   "language": "python",
   "name": "python2"
  },
  "language_info": {
   "codemirror_mode": {
    "name": "ipython",
    "version": 2
   },
   "file_extension": ".py",
   "mimetype": "text/x-python",
   "name": "python",
   "nbconvert_exporter": "python",
   "pygments_lexer": "ipython2",
   "version": "2.7.16"
  }
 },
 "nbformat": 4,
 "nbformat_minor": 2
}
