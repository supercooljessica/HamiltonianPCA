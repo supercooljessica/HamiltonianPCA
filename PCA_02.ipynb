{
 "cells": [
  {
   "cell_type": "code",
   "execution_count": 3,
   "metadata": {},
   "outputs": [],
   "source": [
    "import numpy as np\n",
    "from numpy import linalg as LA\n",
    "import pandas as pd\n",
    "import csv\n",
    "import matplotlib.pyplot as plt\n",
    "import os"
   ]
  },
  {
   "cell_type": "code",
   "execution_count": 14,
   "metadata": {},
   "outputs": [
    {
     "name": "stdout",
     "output_type": "stream",
     "text": [
      "[[[-1.462932, 0.0, 0.0, 0.123435], [0.0, -1.196098, 0.123435, -0.0], [0.0, 0.123435, -1.196098, -0.0], [0.123435, -0.0, -0.0, -0.878207]], [[-1.0, 0.0, 0.0, 0.123435], [0.0, -1.196098, 0.123435, -0.0], [0.0, 0.123435, -1.196098, -0.0], [0.123435, -0.0, -0.0, -0.878207]], [[-1.462932, 0.0, 0.0, 1.123435], [0.0, -1.196098, 0.123435, -0.0], [0.0, 0.123435, -1.196098, -0.0], [1.123435, -0.0, -0.0, -0.878207]]]\n"
     ]
    }
   ],
   "source": [
    "# Reads in a H-matrix in space format\n",
    "def makematrix(filename):\n",
    "    mat_in = open(filename)\n",
    "    mat_in = mat_in.readlines()\n",
    "    del mat_in[0]\n",
    "    del mat_in[0]\n",
    "    for i in range(len(mat_in)):\n",
    "        mat_in[i] = mat_in[i].split()\n",
    "        for j in range(len(mat_in[i])):\n",
    "            mat_in[i][j] = float(mat_in[i][j])\n",
    "    return mat_in\n",
    "\n",
    "# Iterates through all H-matrices\n",
    "raw_data = []\n",
    "directory = '/Users/jessicalee/Documents/pytorch-workspace/matrices'\n",
    "for filename in os.listdir(directory):\n",
    "    raw_data.append(makematrix(os.path.join(directory, filename)))\n",
    "print raw_data"
   ]
  },
  {
   "cell_type": "code",
   "execution_count": 15,
   "metadata": {},
   "outputs": [
    {
     "name": "stdout",
     "output_type": "stream",
     "text": [
      "[[-9.80116677e-01 -2.49800181e-16  0.00000000e+00  1.98422022e-01]\n",
      " [-1.54079542e-16 -7.07106781e-01  7.07106781e-01  4.44089210e-16]\n",
      " [ 7.91154606e-01  1.11022302e-16  0.00000000e+00 -6.11616211e-01]]\n"
     ]
    }
   ],
   "source": [
    "# Returns ground state eigenvector\n",
    "def ground_state(ham_matrix):\n",
    "    eigval, eigvec = LA.eigh(ham_matrix)\n",
    "    eigvec = eigvec.transpose()\n",
    "    eigsys = {}\n",
    "    for i in range(len(eigval)):\n",
    "        eigsys[eigval[i]] = eigvec[i]\n",
    "    return eigsys[min(eigval)]\n",
    "\n",
    "# Get list of ground states from list of H-matrices\n",
    "all_matrices = raw_data\n",
    "ground_states = range(len(all_matrices))\n",
    "for i in range(len(all_matrices)):\n",
    "    ground_states[i] = ground_state(all_matrices[i])\n",
    "np_ground_states = np.asarray(ground_states)\n",
    "print np_ground_states"
   ]
  },
  {
   "cell_type": "code",
   "execution_count": 16,
   "metadata": {},
   "outputs": [
    {
     "name": "stdout",
     "output_type": "stream",
     "text": [
      "3\n",
      "4\n"
     ]
    }
   ],
   "source": [
    "# Establish 2D data array\n",
    "raw_data = np_ground_states\n",
    "data_size = len(raw_data) # Number of data points\n",
    "data_dim = len(raw_data[0]) # Dimension of each data point\n",
    "print(data_size)\n",
    "print(data_dim)"
   ]
  },
  {
   "cell_type": "code",
   "execution_count": 18,
   "metadata": {},
   "outputs": [
    {
     "name": "stdout",
     "output_type": "stream",
     "text": [
      "[[ 0.52488403 -0.01484626  0.01484626 -0.23479524]\n",
      " [-0.01484626  0.11111111 -0.11111111 -0.0324636 ]\n",
      " [ 0.01484626 -0.11111111  0.11111111  0.0324636 ]\n",
      " [-0.23479524 -0.0324636   0.0324636   0.11884529]]\n"
     ]
    }
   ],
   "source": [
    "# Raw scores to deviation scores (standardize)\n",
    "ones = np.ones((data_size, data_size))\n",
    "interm_1 = ones.dot(raw_data)\n",
    "#print interm_1\n",
    "interm_2 = np.multiply( interm_1 , (1.0/data_size) )\n",
    "#print interm_2\n",
    "standardized_data = np.subtract( raw_data, interm_2 )\n",
    "\n",
    "# Get covariance matrix\n",
    "cov = (standardized_data.transpose()).dot(standardized_data)\n",
    "cov = np.multiply(cov, (1.0/data_size))\n",
    "print cov"
   ]
  },
  {
   "cell_type": "code",
   "execution_count": 19,
   "metadata": {},
   "outputs": [
    {
     "name": "stdout",
     "output_type": "stream",
     "text": [
      "{-4.336808689942018e-18: array([-0.40555958, -0.15664649,  0.15664649, -0.88681744]), 0.2336908945735043: array([-0.09213348,  0.68953744, -0.68953744, -0.20146382]), 0.6322606496128198: array([ 9.09413464e-01,  3.22796942e-16, -1.65626318e-16, -4.15893196e-01]), 2.7423687441362844e-18: array([-2.73869903e-04, -7.07212402e-01, -7.07000838e-01, -5.98858023e-04])}\n"
     ]
    }
   ],
   "source": [
    "# Make dictionary for eigensystem of covariance matrix\n",
    "eigval, eigvec = LA.eig(cov)\n",
    "eigvec = eigvec.transpose()\n",
    "\n",
    "eigsys = {}\n",
    "for i in range(len(eigval)):\n",
    "    eigsys[eigval[i]] = eigvec[i]\n",
    "\n",
    "print eigsys"
   ]
  },
  {
   "cell_type": "code",
   "execution_count": 20,
   "metadata": {},
   "outputs": [
    {
     "name": "stdout",
     "output_type": "stream",
     "text": [
      "[0.6322606496128198, 0.2336908945735043]\n"
     ]
    }
   ],
   "source": [
    "# Get principal components\n",
    "def principal_comp(num_comp, eigsys):\n",
    "    eigvals = eigsys.keys()\n",
    "    eigvals.sort()\n",
    "    components = range(num_comp)\n",
    "    for i in range(num_comp):\n",
    "        components[i] = eigvals[len(eigvals) - i - 1]\n",
    "    return components\n",
    "\n",
    "# DECLARE NUMBER OF COMPONENTS\n",
    "num_comp = 2\n",
    "principal_values = principal_comp(num_comp, eigsys)\n",
    "print principal_values"
   ]
  },
  {
   "cell_type": "code",
   "execution_count": 21,
   "metadata": {},
   "outputs": [
    {
     "name": "stdout",
     "output_type": "stream",
     "text": [
      "[[-9.73853672e-01 -4.44089210e-16  9.73853672e-01]\n",
      " [ 3.41826633e-01 -6.83653267e-01  3.41826633e-01]]\n"
     ]
    }
   ],
   "source": [
    "# Make feature vectors matrix and transpose\n",
    "feature_matrix = range(num_comp)\n",
    "for i in range(num_comp):\n",
    "    feature_matrix[i] = eigsys[principal_values[i]]\n",
    "\n",
    "feature_matrix = np.asarray(feature_matrix)\n",
    "\n",
    "proj_data = np.dot(feature_matrix, standardized_data.transpose())\n",
    "\n",
    "print proj_data"
   ]
  },
  {
   "cell_type": "code",
   "execution_count": 22,
   "metadata": {},
   "outputs": [
    {
     "data": {
      "image/png": "[encoded data removed]",
      "text/plain": [
       "<Figure size 432x288 with 1 Axes>"
      ]
     },
     "metadata": {
      "needs_background": "light"
     },
     "output_type": "display_data"
    }
   ],
   "source": [
    "# Graph 2D data\n",
    "plt.figure()\n",
    "plt.plot(proj_data[0], proj_data[1], 'r+')\n",
    "plt.show()"
   ]
  },
  {
   "cell_type": "code",
   "execution_count": null,
   "metadata": {},
   "outputs": [],
   "source": []
  }
 ],
 "metadata": {
  "kernelspec": {
   "display_name": "Python 2",
   "language": "python",
   "name": "python2"
  },
  "language_info": {
   "codemirror_mode": {
    "name": "ipython",
    "version": 2
   },
   "file_extension": ".py",
   "mimetype": "text/x-python",
   "name": "python",
   "nbconvert_exporter": "python",
   "pygments_lexer": "ipython2",
   "version": "2.7.16"
  }
 },
 "nbformat": 4,
 "nbformat_minor": 2
}
